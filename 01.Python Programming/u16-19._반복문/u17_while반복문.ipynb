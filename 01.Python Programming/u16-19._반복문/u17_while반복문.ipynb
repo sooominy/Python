{
  "nbformat": 4,
  "nbformat_minor": 0,
  "metadata": {
    "colab": {
      "name": "unit17_while반복문.ipynb",
      "provenance": []
    },
    "kernelspec": {
      "name": "python3",
      "display_name": "Python 3"
    },
    "language_info": {
      "name": "python"
    }
  },
  "cells": [
    {
      "cell_type": "markdown",
      "metadata": {
        "id": "f4k8Jhq-A-DR"
      },
      "source": [
        "# Unit 17. while 반복문"
      ]
    },
    {
      "cell_type": "markdown",
      "metadata": {
        "id": "iRrGzW10BBOA"
      },
      "source": [
        "## 17.1 while 반복문\n",
        "- 반복 횟수가 정해져 있는 반복문은 while을 사용하지 않음."
      ]
    },
    {
      "cell_type": "code",
      "metadata": {
        "id": "oaIbKW1kA5SE"
      },
      "source": [
        "# 일반적으로 조건이 만족하면 while loop 탈출\n",
        "# 조건이 참인 동안 loop 실행\n",
        "# 반복횟수가 정해진 경우에는 while 웬만하면 사용하지 말 것\n",
        "# 반복횟수가 정해지지 않을 때 while 사용\n",
        "while True:"
      ],
      "execution_count": null,
      "outputs": []
    },
    {
      "cell_type": "markdown",
      "metadata": {
        "id": "kQL3Y7M2CAJT"
      },
      "source": [
        "## 17.2 반복 횟수가 없는 while 반복문"
      ]
    },
    {
      "cell_type": "code",
      "metadata": {
        "id": "LrVqUx0gCEAE"
      },
      "source": [
        "import random"
      ],
      "execution_count": 1,
      "outputs": []
    },
    {
      "cell_type": "code",
      "metadata": {
        "colab": {
          "base_uri": "https://localhost:8080/"
        },
        "id": "URnk6iqdCTay",
        "outputId": "2683d490-d679-4317-916c-df87f5206210"
      },
      "source": [
        "random.random() # 0 ~ 1사이의 실수값"
      ],
      "execution_count": 3,
      "outputs": [
        {
          "output_type": "execute_result",
          "data": {
            "text/plain": [
              "0.8972925080380967"
            ]
          },
          "metadata": {
            "tags": []
          },
          "execution_count": 3
        }
      ]
    },
    {
      "cell_type": "code",
      "metadata": {
        "colab": {
          "base_uri": "https://localhost:8080/"
        },
        "id": "cGRhItr1CZSj",
        "outputId": "4e975922-cd1f-41c1-f4a8-02219af48ca8"
      },
      "source": [
        "random.randint(1, 6) # 시작과 끝 사이 하나의 값. 얘는 마지막 값도 포함."
      ],
      "execution_count": 5,
      "outputs": [
        {
          "output_type": "execute_result",
          "data": {
            "text/plain": [
              "3"
            ]
          },
          "metadata": {
            "tags": []
          },
          "execution_count": 5
        }
      ]
    },
    {
      "cell_type": "code",
      "metadata": {
        "colab": {
          "base_uri": "https://localhost:8080/"
        },
        "id": "pw_Qzn85Chql",
        "outputId": "95a4dabb-8754-4c0d-d4b0-d3a8154b48b5"
      },
      "source": [
        "i = 0 # i의 초기값을 지정해놓고 들어가야 됨\n",
        "while i != 3: \n",
        "    i = random.randint(1, 6)\n",
        "    print(i)"
      ],
      "execution_count": 7,
      "outputs": [
        {
          "output_type": "stream",
          "text": [
            "5\n",
            "3\n"
          ],
          "name": "stdout"
        }
      ]
    },
    {
      "cell_type": "code",
      "metadata": {
        "colab": {
          "base_uri": "https://localhost:8080/"
        },
        "id": "WNLekLybDDi8",
        "outputId": "a622b865-6397-47ac-99a1-ffc71a6d5371"
      },
      "source": [
        "i = 0\n",
        "dice = list(range(1, 7))\n",
        "while i != 3:\n",
        "    i = random.choice(dice) # dice에서 하나 선택\n",
        "    print(i)"
      ],
      "execution_count": 8,
      "outputs": [
        {
          "output_type": "stream",
          "text": [
            "6\n",
            "4\n",
            "2\n",
            "1\n",
            "6\n",
            "2\n",
            "5\n",
            "3\n"
          ],
          "name": "stdout"
        }
      ]
    },
    {
      "cell_type": "code",
      "metadata": {
        "colab": {
          "base_uri": "https://localhost:8080/"
        },
        "id": "S8J98IDmDYdq",
        "outputId": "ff8d0328-d7a4-4ff1-e353-1dbf93f3cf6f"
      },
      "source": [
        "# 복불복 게인\n",
        "random.sample(dice, 6)"
      ],
      "execution_count": 12,
      "outputs": [
        {
          "output_type": "execute_result",
          "data": {
            "text/plain": [
              "[3, 1, 5, 2, 6, 4]"
            ]
          },
          "metadata": {
            "tags": []
          },
          "execution_count": 12
        }
      ]
    },
    {
      "cell_type": "code",
      "metadata": {
        "id": "viWhTdwtDnE6"
      },
      "source": [
        ""
      ],
      "execution_count": null,
      "outputs": []
    }
  ]
}