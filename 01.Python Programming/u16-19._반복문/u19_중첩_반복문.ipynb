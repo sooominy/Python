{
  "nbformat": 4,
  "nbformat_minor": 0,
  "metadata": {
    "colab": {
      "name": "u19_중첩 반복문.ipynb",
      "provenance": []
    },
    "kernelspec": {
      "name": "python3",
      "display_name": "Python 3"
    },
    "language_info": {
      "name": "python"
    }
  },
  "cells": [
    {
      "cell_type": "markdown",
      "metadata": {
        "id": "zKPvqPtnbUXj"
      },
      "source": [
        "# Unit 19. 중첩 반복문"
      ]
    },
    {
      "cell_type": "markdown",
      "metadata": {
        "id": "sZwlrw6pbXDS"
      },
      "source": [
        "## 19.1 중첩(Nested) for loop"
      ]
    },
    {
      "cell_type": "code",
      "metadata": {
        "colab": {
          "base_uri": "https://localhost:8080/"
        },
        "id": "6sKTZb3sbQSI",
        "outputId": "6168ba37-7711-45a7-d546-e2978b07c0f3"
      },
      "source": [
        "# 앞으로 다룰 data는 최소 2차원. 2차원 data에 대해 반복문을 사용하려면 for loop을 여러 번 시행해야 됨.\n",
        "# 따라서 for loop안에 또 for loop이 들어갈 수 있음.\n",
        "# for i in range(횟수):   ## 바깥쪽 loop\n",
        "#    for k in range(횟수):   ## 안쪽 loop\n",
        "for i in range(5):\n",
        "    for k in range(10, 60, 10):\n",
        "        print(k, end = ' ')\n",
        "    print(i)"
      ],
      "execution_count": 1,
      "outputs": [
        {
          "output_type": "stream",
          "text": [
            "10 20 30 40 50 0\n",
            "10 20 30 40 50 1\n",
            "10 20 30 40 50 2\n",
            "10 20 30 40 50 3\n",
            "10 20 30 40 50 4\n"
          ],
          "name": "stdout"
        }
      ]
    },
    {
      "cell_type": "markdown",
      "metadata": {
        "id": "Ixr2Jc_qcq-G"
      },
      "source": [
        "## 19.2 별 사각형"
      ]
    },
    {
      "cell_type": "code",
      "metadata": {
        "colab": {
          "base_uri": "https://localhost:8080/"
        },
        "id": "wwkizPTpcVXP",
        "outputId": "77ca79dd-d75f-425b-aad9-57d9ed741668"
      },
      "source": [
        "for i in range(5):\n",
        "    for k in range(5):  # k 대신 _ 사용 가능\n",
        "        print('*', end = '')\n",
        "    print()"
      ],
      "execution_count": 4,
      "outputs": [
        {
          "output_type": "stream",
          "text": [
            "*****\n",
            "*****\n",
            "*****\n",
            "*****\n",
            "*****\n"
          ],
          "name": "stdout"
        }
      ]
    },
    {
      "cell_type": "code",
      "metadata": {
        "colab": {
          "base_uri": "https://localhost:8080/"
        },
        "id": "icsITtK2c0pe",
        "outputId": "455b8cf4-f708-4694-a9ac-0706c701454b"
      },
      "source": [
        "# 평행사변형 그리기 with nested for loop\n",
        "for i in range(4):\n",
        "    for _ in range(0, i): # blank, # 첫 실행에서는 안 됨. range(0, 0)이어서\n",
        "        print(' ', end = '')\n",
        "    for _ in range(5): # 5 star\n",
        "        print('*', end = '')\n",
        "    print()"
      ],
      "execution_count": 6,
      "outputs": [
        {
          "output_type": "stream",
          "text": [
            "*****\n",
            " *****\n",
            "  *****\n",
            "   *****\n"
          ],
          "name": "stdout"
        }
      ]
    },
    {
      "cell_type": "code",
      "metadata": {
        "colab": {
          "base_uri": "https://localhost:8080/"
        },
        "id": "HsFolKaceaLQ",
        "outputId": "cac7efde-f683-45be-f54f-f6a2e9afc64e"
      },
      "source": [
        "# another version\n",
        "for i in range(4):\n",
        "    print(' ' * i, '*' * 5, sep = '')"
      ],
      "execution_count": 7,
      "outputs": [
        {
          "output_type": "stream",
          "text": [
            "*****\n",
            " *****\n",
            "  *****\n",
            "   *****\n"
          ],
          "name": "stdout"
        }
      ]
    },
    {
      "cell_type": "markdown",
      "metadata": {
        "id": "0FHseYLwfLnm"
      },
      "source": [
        "## 19.3 계단식 별 모양"
      ]
    },
    {
      "cell_type": "code",
      "metadata": {
        "colab": {
          "base_uri": "https://localhost:8080/"
        },
        "id": "prqTCAX0e64G",
        "outputId": "c19114c9-da21-4c74-e6ba-b740af29c355"
      },
      "source": [
        "for i in range(5):\n",
        "    for _ in range(i+1):\n",
        "        print('*', end = '')\n",
        "    print()"
      ],
      "execution_count": 8,
      "outputs": [
        {
          "output_type": "stream",
          "text": [
            "*\n",
            "**\n",
            "***\n",
            "****\n",
            "*****\n"
          ],
          "name": "stdout"
        }
      ]
    },
    {
      "cell_type": "code",
      "metadata": {
        "colab": {
          "base_uri": "https://localhost:8080/"
        },
        "id": "5izXSPBufz1x",
        "outputId": "10de3969-394e-4ab7-d1b3-5798415e9c5e"
      },
      "source": [
        "for i in range(5):\n",
        "    for _ in range(i):\n",
        "        print(' ', end = '')\n",
        "    for _ in range(5-i):\n",
        "        print('*', end = '')\n",
        "    print()"
      ],
      "execution_count": 15,
      "outputs": [
        {
          "output_type": "stream",
          "text": [
            "*****\n",
            " ****\n",
            "  ***\n",
            "   **\n",
            "    *\n"
          ],
          "name": "stdout"
        }
      ]
    },
    {
      "cell_type": "code",
      "metadata": {
        "colab": {
          "base_uri": "https://localhost:8080/"
        },
        "id": "nGarrNSSgJaD",
        "outputId": "2a3c932c-bd4e-4b79-ef2c-6fbf45201870"
      },
      "source": [
        "for i in range(1, 6): \n",
        "    print('*' * i)"
      ],
      "execution_count": 21,
      "outputs": [
        {
          "output_type": "stream",
          "text": [
            "*\n",
            "**\n",
            "***\n",
            "****\n",
            "*****\n"
          ],
          "name": "stdout"
        }
      ]
    },
    {
      "cell_type": "code",
      "metadata": {
        "colab": {
          "base_uri": "https://localhost:8080/"
        },
        "id": "CKdp4_FNhS4F",
        "outputId": "a3e0be50-b46a-48de-83ba-e6cd10442db2"
      },
      "source": [
        "for i in range(5):\n",
        "    print('*' * (i+1))"
      ],
      "execution_count": 20,
      "outputs": [
        {
          "output_type": "stream",
          "text": [
            "*\n",
            "**\n",
            "***\n",
            "****\n",
            "*****\n"
          ],
          "name": "stdout"
        }
      ]
    },
    {
      "cell_type": "code",
      "metadata": {
        "colab": {
          "base_uri": "https://localhost:8080/"
        },
        "id": "VNxM9A8bg9Ts",
        "outputId": "4ebf3262-f68e-4876-e71c-fef0603e5a0f"
      },
      "source": [
        "for i in range(5):\n",
        "    print(' ' * i, '*' * (5-i), sep = '')"
      ],
      "execution_count": 19,
      "outputs": [
        {
          "output_type": "stream",
          "text": [
            "*****\n",
            " ****\n",
            "  ***\n",
            "   **\n",
            "    *\n"
          ],
          "name": "stdout"
        }
      ]
    },
    {
      "cell_type": "markdown",
      "metadata": {
        "id": "0i8p4-lehrC7"
      },
      "source": [
        "## +) 다이아몬드 그리기"
      ]
    },
    {
      "cell_type": "code",
      "metadata": {
        "colab": {
          "base_uri": "https://localhost:8080/"
        },
        "id": "6s4gVxyzhbFc",
        "outputId": "e74dbb5f-c65b-4ca2-9b6a-69bed218379f"
      },
      "source": [
        "# Me\n",
        "for i in range(1,6):\n",
        "    print(' ' * (5-i), '*' * (2*i-1), ' ' * (5-i), end = '')\n",
        "    print()\n",
        "for k in range(5):\n",
        "    print(' ' * (k+1), '*' * (7-2*k), end = '')\n",
        "    print()"
      ],
      "execution_count": 62,
      "outputs": [
        {
          "output_type": "stream",
          "text": [
            "     *     \n",
            "    ***    \n",
            "   *****   \n",
            "  *******  \n",
            " ********* \n",
            "  *******\n",
            "   *****\n",
            "    ***\n",
            "     *\n",
            "      \n"
          ],
          "name": "stdout"
        }
      ]
    },
    {
      "cell_type": "code",
      "metadata": {
        "colab": {
          "base_uri": "https://localhost:8080/"
        },
        "id": "XPgQYNzciEcs",
        "outputId": "cd4ad34f-b9df-485b-eaa8-9365e3a4751a"
      },
      "source": [
        "# 다이아몬드를 윗 부분과 아랫 부분으로 구분해서 그리기.\n",
        "# blank의 개수는 4 - 3 - 2 - 1의 순서로 됨. \n",
        "# 별의 개수는 1 - 3 - 5 - 7의 순서로 됨.\n",
        "for i in range(5):\n",
        "    for _ in range(4-i):\n",
        "        print(' ', end = '')\n",
        "    for _ in range(2*i+1):\n",
        "        print('*', end = '')\n",
        "    print()\n",
        "\n",
        "# 다이아몬드 아랫부분\n",
        "# blank는 1 - 2 - 3 - 4, 별 개수는 7 - 5 - 3 - 1\n",
        "for i in range(5):\n",
        "    for _ in range(i+1):\n",
        "        print(' ', end = '')\n",
        "    for _ in range(7-2*i):\n",
        "        print('*', end = '')\n",
        "    print()"
      ],
      "execution_count": 51,
      "outputs": [
        {
          "output_type": "stream",
          "text": [
            "    *\n",
            "   ***\n",
            "  *****\n",
            " *******\n",
            "*********\n",
            " *******\n",
            "  *****\n",
            "   ***\n",
            "    *\n",
            "     \n"
          ],
          "name": "stdout"
        }
      ]
    },
    {
      "cell_type": "code",
      "metadata": {
        "colab": {
          "base_uri": "https://localhost:8080/"
        },
        "id": "IzlCLblSkxGD",
        "outputId": "a5e9a522-2713-4193-d1b7-021e9b9639bb"
      },
      "source": [
        "for i in range(5):\n",
        "    print(' ' * (4-i), '*' * (2*i+1), sep = '')\n",
        "for i in range(4):\n",
        "    print(' ' * (i+1), '*' * (7-2*i), sep = '')"
      ],
      "execution_count": 57,
      "outputs": [
        {
          "output_type": "stream",
          "text": [
            "    *\n",
            "   ***\n",
            "  *****\n",
            " *******\n",
            "*********\n",
            " *******\n",
            "  *****\n",
            "   ***\n",
            "    *\n"
          ],
          "name": "stdout"
        }
      ]
    },
    {
      "cell_type": "code",
      "metadata": {
        "id": "JB7-WdsrmWah"
      },
      "source": [
        ""
      ],
      "execution_count": null,
      "outputs": []
    }
  ]
}