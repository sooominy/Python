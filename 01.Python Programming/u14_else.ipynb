{
  "nbformat": 4,
  "nbformat_minor": 0,
  "metadata": {
    "colab": {
      "name": "u14_else.ipynb",
      "provenance": []
    },
    "kernelspec": {
      "name": "python3",
      "display_name": "Python 3"
    },
    "language_info": {
      "name": "python"
    }
  },
  "cells": [
    {
      "cell_type": "markdown",
      "metadata": {
        "id": "30wHK_fpmCP2"
      },
      "source": [
        "#Unit14. else"
      ]
    },
    {
      "cell_type": "code",
      "metadata": {
        "colab": {
          "base_uri": "https://localhost:8080/"
        },
        "id": "Jkv-4eF5mD0w",
        "outputId": "5d426814-2e07-4b35-eeed-955ccb348763"
      },
      "source": [
        "x = 5\n",
        "if x == 10:\n",
        "    print('10입니다.')\n",
        "else:\n",
        "    print('It is not 10')"
      ],
      "execution_count": 2,
      "outputs": [
        {
          "output_type": "stream",
          "text": [
            "It is not 10\n"
          ],
          "name": "stdout"
        }
      ]
    },
    {
      "cell_type": "markdown",
      "metadata": {
        "id": "OSYubYGRmvP1"
      },
      "source": [
        "### 3항 연산자\n",
        "- Java의 경우: a = (조건)? '참'일 때의 값 : 거짓일 때의 값\n",
        "- Python의 경우: a = 참일 때의 값 if 조건 else 거짓일 때의 값"
      ]
    },
    {
      "cell_type": "code",
      "metadata": {
        "colab": {
          "base_uri": "https://localhost:8080/",
          "height": 35
        },
        "id": "ONdCRsk2my2p",
        "outputId": "04458d99-e16d-461a-eca8-fedf867c43e4"
      },
      "source": [
        "x = 1\n",
        "if x % 2 == 0:\n",
        "    y = 'even'\n",
        "else:\n",
        "    y = 'odd'\n",
        "y"
      ],
      "execution_count": 3,
      "outputs": [
        {
          "output_type": "execute_result",
          "data": {
            "application/vnd.google.colaboratory.intrinsic+json": {
              "type": "string"
            },
            "text/plain": [
              "'odd'"
            ]
          },
          "metadata": {
            "tags": []
          },
          "execution_count": 3
        }
      ]
    },
    {
      "cell_type": "code",
      "metadata": {
        "colab": {
          "base_uri": "https://localhost:8080/",
          "height": 35
        },
        "id": "qISWNz7FnFb0",
        "outputId": "facad42e-6134-4621-ab25-0d3e7c6d0adb"
      },
      "source": [
        "y = 'even' if x % 2 == 0 else 'odd'  # 여기서는 콜론이 안 쓰임(:)\n",
        "y"
      ],
      "execution_count": 4,
      "outputs": [
        {
          "output_type": "execute_result",
          "data": {
            "application/vnd.google.colaboratory.intrinsic+json": {
              "type": "string"
            },
            "text/plain": [
              "'odd'"
            ]
          },
          "metadata": {
            "tags": []
          },
          "execution_count": 4
        }
      ]
    },
    {
      "cell_type": "code",
      "metadata": {
        "colab": {
          "base_uri": "https://localhost:8080/"
        },
        "id": "BFpb3pZ-nPre",
        "outputId": "ca7c27f7-09b5-48d7-f253-587cf87c3034"
      },
      "source": [
        "# 90점 이상이면 학점 'A', 80 ~ 89이면 학점 'B', 70~79이면 학점 'C', 60~69면 'D', ~ 59면 'F'\n",
        "score = int(input('점수 입력> '))"
      ],
      "execution_count": 7,
      "outputs": [
        {
          "output_type": "stream",
          "text": [
            "점수 입력> 82\n"
          ],
          "name": "stdout"
        }
      ]
    },
    {
      "cell_type": "code",
      "metadata": {
        "colab": {
          "base_uri": "https://localhost:8080/"
        },
        "id": "EpJG3rLwooTQ",
        "outputId": "9de84a88-bdca-4924-8446-0058135364ca"
      },
      "source": [
        "if score >= 90:\n",
        "    print('A')\n",
        "elif score >= 80 and score < 90:\n",
        "    print('B')\n",
        "elif score >= 70 and score < 80:\n",
        "    print('C')\n",
        "elif score >= 60 and score < 70:\n",
        "    print('D')\n",
        "else:\n",
        "    print('F')"
      ],
      "execution_count": 9,
      "outputs": [
        {
          "output_type": "stream",
          "text": [
            "B\n"
          ],
          "name": "stdout"
        }
      ]
    },
    {
      "cell_type": "code",
      "metadata": {
        "colab": {
          "base_uri": "https://localhost:8080/"
        },
        "id": "M6mFcHuFpMpV",
        "outputId": "1bfb333e-7b4b-41db-feb9-516d212f0fc7"
      },
      "source": [
        "if score >= 90:\n",
        "      grade = 'A'\n",
        "else:\n",
        "    if score >= 80:\n",
        "        grade = 'B'\n",
        "    else:\n",
        "        if score >= 70:\n",
        "            grade = 'C'\n",
        "        else:\n",
        "            if score >= 60:\n",
        "                grade = 'D'\n",
        "            else:\n",
        "                grade = 'F'\n",
        "print(grade)"
      ],
      "execution_count": 11,
      "outputs": [
        {
          "output_type": "stream",
          "text": [
            "B\n"
          ],
          "name": "stdout"
        }
      ]
    },
    {
      "cell_type": "code",
      "metadata": {
        "colab": {
          "base_uri": "https://localhost:8080/",
          "height": 35
        },
        "id": "TLVrRYiXqTlB",
        "outputId": "48e1576a-33ce-418c-bf4f-7c3e555383d7"
      },
      "source": [
        "grade = 'A' if score >= 90 else \\\n",
        "            'B' if score >= 80 else \\\n",
        "                'C' if score >= 70 else \\\n",
        "                    'D' if score >= 60 else \\\n",
        "                        'F'\n",
        "grade"
      ],
      "execution_count": 12,
      "outputs": [
        {
          "output_type": "execute_result",
          "data": {
            "application/vnd.google.colaboratory.intrinsic+json": {
              "type": "string"
            },
            "text/plain": [
              "'B'"
            ]
          },
          "metadata": {
            "tags": []
          },
          "execution_count": 12
        }
      ]
    },
    {
      "cell_type": "code",
      "metadata": {
        "id": "TyUrOqF4qurE"
      },
      "source": [
        ""
      ],
      "execution_count": null,
      "outputs": []
    }
  ]
}