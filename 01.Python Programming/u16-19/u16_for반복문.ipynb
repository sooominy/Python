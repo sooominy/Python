{
  "nbformat": 4,
  "nbformat_minor": 0,
  "metadata": {
    "colab": {
      "name": "u16_for반복문.ipynb",
      "provenance": []
    },
    "kernelspec": {
      "name": "python3",
      "display_name": "Python 3"
    },
    "language_info": {
      "name": "python"
    }
  },
  "cells": [
    {
      "cell_type": "markdown",
      "metadata": {
        "id": "VpwkKz4xtDZA"
      },
      "source": [
        "# Unit 16. for 반복문"
      ]
    },
    {
      "cell_type": "markdown",
      "metadata": {
        "id": "jxGIT5FRtHyt"
      },
      "source": [
        "## 16.1 for와 range"
      ]
    },
    {
      "cell_type": "code",
      "metadata": {
        "colab": {
          "base_uri": "https://localhost:8080/"
        },
        "id": "JhdT_g4utKw3",
        "outputId": "5d50f3b6-0ca7-4733-b907-4a0922913849"
      },
      "source": [
        "# 반복 횟수가 정해진 경우 For loop를 많이 사용\n",
        "for i in range(10):\n",
        "    print('Hello World!')"
      ],
      "execution_count": 1,
      "outputs": [
        {
          "output_type": "stream",
          "text": [
            "Hello World!\n",
            "Hello World!\n",
            "Hello World!\n",
            "Hello World!\n",
            "Hello World!\n",
            "Hello World!\n",
            "Hello World!\n",
            "Hello World!\n",
            "Hello World!\n",
            "Hello World!\n"
          ],
          "name": "stdout"
        }
      ]
    },
    {
      "cell_type": "code",
      "metadata": {
        "colab": {
          "base_uri": "https://localhost:8080/"
        },
        "id": "hSN-G8dMt15K",
        "outputId": "3b8164a6-52a5-4760-c5ae-b90822f88846"
      },
      "source": [
        "for i in range(10):\n",
        "    print('Hello World!', i)"
      ],
      "execution_count": 2,
      "outputs": [
        {
          "output_type": "stream",
          "text": [
            "Hello World! 0\n",
            "Hello World! 1\n",
            "Hello World! 2\n",
            "Hello World! 3\n",
            "Hello World! 4\n",
            "Hello World! 5\n",
            "Hello World! 6\n",
            "Hello World! 7\n",
            "Hello World! 8\n",
            "Hello World! 9\n"
          ],
          "name": "stdout"
        }
      ]
    },
    {
      "cell_type": "code",
      "metadata": {
        "colab": {
          "base_uri": "https://localhost:8080/"
        },
        "id": "ga6KbFVTvQrG",
        "outputId": "c6b89452-772d-47d9-f900-2369909af757"
      },
      "source": [
        "# _를 사용해도 가능. 변수를 굳이 생성하지 않아도 됨\n",
        "for _ in range(10):\n",
        "    print('Hello World!')"
      ],
      "execution_count": 3,
      "outputs": [
        {
          "output_type": "stream",
          "text": [
            "Hello World!\n",
            "Hello World!\n",
            "Hello World!\n",
            "Hello World!\n",
            "Hello World!\n",
            "Hello World!\n",
            "Hello World!\n",
            "Hello World!\n",
            "Hello World!\n",
            "Hello World!\n"
          ],
          "name": "stdout"
        }
      ]
    },
    {
      "cell_type": "markdown",
      "metadata": {
        "id": "fyVbNGihyDF7"
      },
      "source": [
        "## 16.2 for와 range 응용"
      ]
    },
    {
      "cell_type": "code",
      "metadata": {
        "colab": {
          "base_uri": "https://localhost:8080/"
        },
        "id": "kIgAGg6SyFyx",
        "outputId": "a8768806-c5b9-4613-f581-ad58d6e7e075"
      },
      "source": [
        "for i in range(6, 10):\n",
        "    print('Hello World!', i)"
      ],
      "execution_count": 5,
      "outputs": [
        {
          "output_type": "stream",
          "text": [
            "Hello World! 6\n",
            "Hello World! 7\n",
            "Hello World! 8\n",
            "Hello World! 9\n"
          ],
          "name": "stdout"
        }
      ]
    },
    {
      "cell_type": "code",
      "metadata": {
        "colab": {
          "base_uri": "https://localhost:8080/"
        },
        "id": "F08cyl1FyI_1",
        "outputId": "c5dc38f0-7b16-483d-ecbd-aa950dc78560"
      },
      "source": [
        "for i in range(0, 10, 2):\n",
        "    print('Hello World!', i)"
      ],
      "execution_count": 6,
      "outputs": [
        {
          "output_type": "stream",
          "text": [
            "Hello World! 0\n",
            "Hello World! 2\n",
            "Hello World! 4\n",
            "Hello World! 6\n",
            "Hello World! 8\n"
          ],
          "name": "stdout"
        }
      ]
    },
    {
      "cell_type": "code",
      "metadata": {
        "colab": {
          "base_uri": "https://localhost:8080/"
        },
        "id": "qSEoisCIyR0B",
        "outputId": "bb87f0fa-5585-4122-ea57-8fe8272be9cc"
      },
      "source": [
        "for i in range(10, 0, -2):\n",
        "    print('Hello World!', i)"
      ],
      "execution_count": 7,
      "outputs": [
        {
          "output_type": "stream",
          "text": [
            "Hello World! 10\n",
            "Hello World! 8\n",
            "Hello World! 6\n",
            "Hello World! 4\n",
            "Hello World! 2\n"
          ],
          "name": "stdout"
        }
      ]
    },
    {
      "cell_type": "code",
      "metadata": {
        "colab": {
          "base_uri": "https://localhost:8080/"
        },
        "id": "EoRCgdVoyUUK",
        "outputId": "77d0129b-61f1-4a15-8609-8d541177dd93"
      },
      "source": [
        "for i in range(1, 101):\n",
        "    print('Fizz' * (i % 3 == 0) + 'Buzz' * (i % 5 == 0) or i, end = ' ')\n",
        "    if (i % 10 == 0):\n",
        "        print()"
      ],
      "execution_count": 9,
      "outputs": [
        {
          "output_type": "stream",
          "text": [
            "1 2 Fizz 4 Buzz Fizz 7 8 Fizz Buzz \n",
            "11 Fizz 13 14 FizzBuzz 16 17 Fizz 19 Buzz \n",
            "Fizz 22 23 Fizz Buzz 26 Fizz 28 29 FizzBuzz \n",
            "31 32 Fizz 34 Buzz Fizz 37 38 Fizz Buzz \n",
            "41 Fizz 43 44 FizzBuzz 46 47 Fizz 49 Buzz \n",
            "Fizz 52 53 Fizz Buzz 56 Fizz 58 59 FizzBuzz \n",
            "61 62 Fizz 64 Buzz Fizz 67 68 Fizz Buzz \n",
            "71 Fizz 73 74 FizzBuzz 76 77 Fizz 79 Buzz \n",
            "Fizz 82 83 Fizz Buzz 86 Fizz 88 89 FizzBuzz \n",
            "91 92 Fizz 94 Buzz Fizz 97 98 Fizz Buzz \n"
          ],
          "name": "stdout"
        }
      ]
    },
    {
      "cell_type": "markdown",
      "metadata": {
        "id": "OFXzyu7gz97C"
      },
      "source": [
        "## 16.2 시퀀스 객체 반복"
      ]
    },
    {
      "cell_type": "code",
      "metadata": {
        "colab": {
          "base_uri": "https://localhost:8080/"
        },
        "id": "1U5J8zdOzOeN",
        "outputId": "4484c45c-bb1c-4ef7-fac8-e5532c2e6baf"
      },
      "source": [
        "fruits = ['apple', 'banana', 'cherry']\n",
        "for element in fruits:\n",
        "    print(element)"
      ],
      "execution_count": 11,
      "outputs": [
        {
          "output_type": "stream",
          "text": [
            "apple\n",
            "banana\n",
            "cherry\n"
          ],
          "name": "stdout"
        }
      ]
    },
    {
      "cell_type": "code",
      "metadata": {
        "colab": {
          "base_uri": "https://localhost:8080/"
        },
        "id": "hGYU6bXz2qJN",
        "outputId": "f5bff980-3141-4971-8239-0c6c1909278d"
      },
      "source": [
        "fruit_list = ['apple', 'banana', 'cherry']\n",
        "for fruit in fruit_list:\n",
        "    print(fruit)"
      ],
      "execution_count": 12,
      "outputs": [
        {
          "output_type": "stream",
          "text": [
            "apple\n",
            "banana\n",
            "cherry\n"
          ],
          "name": "stdout"
        }
      ]
    },
    {
      "cell_type": "code",
      "metadata": {
        "colab": {
          "base_uri": "https://localhost:8080/"
        },
        "id": "xFUce7Ar3Fas",
        "outputId": "f86c3bb5-aa35-470c-ca80-1a35b85d7889"
      },
      "source": [
        "for letter in  'Python':\n",
        "    print(letter, end = '')"
      ],
      "execution_count": 22,
      "outputs": [
        {
          "output_type": "stream",
          "text": [
            "Python"
          ],
          "name": "stdout"
        }
      ]
    },
    {
      "cell_type": "code",
      "metadata": {
        "colab": {
          "base_uri": "https://localhost:8080/"
        },
        "id": "Y3MopAK623wB",
        "outputId": "20bef3f3-2c27-4682-ddff-d30cec6ba15f"
      },
      "source": [
        "for char in reversed('Python'):\n",
        "    print(char, end = ' ')"
      ],
      "execution_count": 28,
      "outputs": [
        {
          "output_type": "stream",
          "text": [
            "n o h t y P "
          ],
          "name": "stdout"
        }
      ]
    },
    {
      "cell_type": "code",
      "metadata": {
        "colab": {
          "base_uri": "https://localhost:8080/"
        },
        "id": "9vOVZ6GP2-AI",
        "outputId": "d04d3d0a-ebcb-473c-a6c6-5d2de72b6ca4"
      },
      "source": [
        "for number in (10, 20, 30):\n",
        "    print(number)"
      ],
      "execution_count": 19,
      "outputs": [
        {
          "output_type": "stream",
          "text": [
            "10\n",
            "20\n",
            "30\n"
          ],
          "name": "stdout"
        }
      ]
    },
    {
      "cell_type": "markdown",
      "metadata": {
        "id": "NmYV18Bb3leP"
      },
      "source": [
        "### Perfect Number\n",
        "자기 자신을 제외한 약수의 합이 자기 자신과 같은 수\n",
        "\n",
        "\n",
        "ex)  6의 약수: 1, 2, 3, 6\n",
        "     \n",
        "     \n",
        "    6 = 1 + 2 + 3\n",
        "\n",
        "- 10000이하의 자연수 중에서는 4개의 perfect number가 존재"
      ]
    },
    {
      "cell_type": "code",
      "metadata": {
        "colab": {
          "base_uri": "https://localhost:8080/"
        },
        "id": "iJDlSt7u3TJf",
        "outputId": "c5c64ddc-34f1-4fa2-db21-07efb3197a61"
      },
      "source": [
        "# Hint\n",
        "for i in range(2, 11):\n",
        "    for k in range(1, i):\n",
        "        if i % k == 0:\n",
        "            print(f'{k}은/는 {i}의 약수')"
      ],
      "execution_count": 24,
      "outputs": [
        {
          "output_type": "stream",
          "text": [
            "1은/는 2의 약수\n",
            "1은/는 3의 약수\n",
            "1은/는 4의 약수\n",
            "2은/는 4의 약수\n",
            "1은/는 5의 약수\n",
            "1은/는 6의 약수\n",
            "2은/는 6의 약수\n",
            "3은/는 6의 약수\n",
            "1은/는 7의 약수\n",
            "1은/는 8의 약수\n",
            "2은/는 8의 약수\n",
            "4은/는 8의 약수\n",
            "1은/는 9의 약수\n",
            "3은/는 9의 약수\n",
            "1은/는 10의 약수\n",
            "2은/는 10의 약수\n",
            "5은/는 10의 약수\n"
          ],
          "name": "stdout"
        }
      ]
    },
    {
      "cell_type": "code",
      "metadata": {
        "colab": {
          "base_uri": "https://localhost:8080/"
        },
        "id": "4HWuOCx54xvx",
        "outputId": "4161bbb5-4ac2-40bb-f139-27a6d4612f9b"
      },
      "source": [
        "# Me\n",
        "for i in range(2, 10001):\n",
        "    sum_of_divisor = 0\n",
        "    for k in range(1, i):  # k는 i의 약수\n",
        "      if i % k == 0:\n",
        "          sum_of_divisor += k\n",
        "    if i == sum_of_divisor:\n",
        "        print(i)"
      ],
      "execution_count": 29,
      "outputs": [
        {
          "output_type": "stream",
          "text": [
            "6\n",
            "28\n",
            "496\n",
            "8128\n"
          ],
          "name": "stdout"
        }
      ]
    },
    {
      "cell_type": "code",
      "metadata": {
        "colab": {
          "base_uri": "https://localhost:8080/"
        },
        "id": "LrBbt96v5G1u",
        "outputId": "31dd32c7-77f8-45be-ecb7-95fe1d74252d"
      },
      "source": [
        "# list 사용하기\n",
        "perfect_numbers = []\n",
        "for i in range(2, 10001):\n",
        "    divisor_list = []\n",
        "    for k in range(1, i):  # k는 i의 약수\n",
        "      if i % k == 0:\n",
        "          divisor_list.append(k)\n",
        "\n",
        "    if i == sum(divisor_list):\n",
        "        perfect_numbers.append(i)\n",
        "\n",
        "print(perfect_numbers)"
      ],
      "execution_count": 31,
      "outputs": [
        {
          "output_type": "stream",
          "text": [
            "[6, 28, 496, 8128]\n"
          ],
          "name": "stdout"
        }
      ]
    },
    {
      "cell_type": "code",
      "metadata": {
        "id": "4SWJaq5c9TMx"
      },
      "source": [
        ""
      ],
      "execution_count": null,
      "outputs": []
    }
  ]
}