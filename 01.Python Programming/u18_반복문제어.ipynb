{
  "nbformat": 4,
  "nbformat_minor": 0,
  "metadata": {
    "colab": {
      "name": "u18_반복문제어.ipynb",
      "provenance": []
    },
    "kernelspec": {
      "name": "python3",
      "display_name": "Python 3"
    },
    "language_info": {
      "name": "python"
    }
  },
  "cells": [
    {
      "cell_type": "markdown",
      "metadata": {
        "id": "Xiy7fpOcE1x6"
      },
      "source": [
        "# Unit 18. break, continue"
      ]
    },
    {
      "cell_type": "markdown",
      "metadata": {
        "id": "uv0SWQleE7Q1"
      },
      "source": [
        "## 18.1 break"
      ]
    },
    {
      "cell_type": "code",
      "metadata": {
        "id": "kdh8p1pzE5dX"
      },
      "source": [
        "import random"
      ],
      "execution_count": 1,
      "outputs": []
    },
    {
      "cell_type": "code",
      "metadata": {
        "colab": {
          "base_uri": "https://localhost:8080/"
        },
        "id": "vvbC2K9NFA3_",
        "outputId": "adf3d586-4804-45a8-9e3b-a11d197d0e74"
      },
      "source": [
        "while True:\n",
        "    i = random.randint(1, 6)\n",
        "    print(i)\n",
        "    if i == 3:\n",
        "        break # break가 없는 것 보다 있는 것이 더 나음"
      ],
      "execution_count": 2,
      "outputs": [
        {
          "output_type": "stream",
          "text": [
            "4\n",
            "4\n",
            "1\n",
            "6\n",
            "5\n",
            "4\n",
            "3\n"
          ],
          "name": "stdout"
        }
      ]
    },
    {
      "cell_type": "code",
      "metadata": {
        "colab": {
          "base_uri": "https://localhost:8080/"
        },
        "id": "8XcgWaKZFMxX",
        "outputId": "b03d3a02-7d02-4f6a-9f56-f72e7cdfe1e0"
      },
      "source": [
        "for i in range(5):\n",
        "    print(i, end = ' ')\n",
        "    for k in range(5):\n",
        "        print('*', end = '')\n",
        "        if i == k:\n",
        "            break # break는 완전한 전체 loop 탈출이 아니라, 하나의 loop만 탈출. 여기서는 k가 들어가 있는 for문만 탈출\n",
        "    print()\n"
      ],
      "execution_count": 6,
      "outputs": [
        {
          "output_type": "stream",
          "text": [
            "0 *\n",
            "1 **\n",
            "2 ***\n",
            "3 ****\n",
            "4 *****\n"
          ],
          "name": "stdout"
        }
      ]
    },
    {
      "cell_type": "markdown",
      "metadata": {
        "id": "i0fSarNIGoYy"
      },
      "source": [
        "## 18.2 continue"
      ]
    },
    {
      "cell_type": "code",
      "metadata": {
        "colab": {
          "base_uri": "https://localhost:8080/"
        },
        "id": "Ppp0gCP4FxLw",
        "outputId": "8fed9345-2e3e-421a-99db-5daac4dbd854"
      },
      "source": [
        "for i in range(10):\n",
        "    if i % 2 == 0:\n",
        "        continue # if를 만족하면, 밑에 있는 코드까지 가지 않고 다시 처음으로 가서 시작\n",
        "    print(i)"
      ],
      "execution_count": 7,
      "outputs": [
        {
          "output_type": "stream",
          "text": [
            "1\n",
            "3\n",
            "5\n",
            "7\n",
            "9\n"
          ],
          "name": "stdout"
        }
      ]
    },
    {
      "cell_type": "code",
      "metadata": {
        "id": "FT6vw1uOG1Fm"
      },
      "source": [
        ""
      ],
      "execution_count": null,
      "outputs": []
    }
  ]
}