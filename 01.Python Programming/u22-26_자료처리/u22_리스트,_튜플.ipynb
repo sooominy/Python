{
  "nbformat": 4,
  "nbformat_minor": 0,
  "metadata": {
    "colab": {
      "name": "u22_리스트, 튜플.ipynb",
      "provenance": []
    },
    "kernelspec": {
      "name": "python3",
      "display_name": "Python 3"
    },
    "language_info": {
      "name": "python"
    }
  },
  "cells": [
    {
      "cell_type": "markdown",
      "metadata": {
        "id": "ODxTJZ81qYw9"
      },
      "source": [
        "# Unit 22. 리스트, 튜플 응용"
      ]
    },
    {
      "cell_type": "markdown",
      "metadata": {
        "id": "vXOK8UBZqbhy"
      },
      "source": [
        "## 22.1 리스트 조작\n",
        "- append: 요소 하나를 추가, 주로 #반복문 안에서 사용됨.\n",
        "- extend: 리스트를 연결하여 확장. \n",
        "- insert: 특정 인덱스에 요소 추가\n",
        "> append가 가장 많이 쓰임"
      ]
    },
    {
      "cell_type": "code",
      "metadata": {
        "id": "hwL3cMMnqWkw"
      },
      "source": [
        "a = [10, 20, 30]"
      ],
      "execution_count": 10,
      "outputs": []
    },
    {
      "cell_type": "code",
      "metadata": {
        "colab": {
          "base_uri": "https://localhost:8080/"
        },
        "id": "ginmCGiIraYP",
        "outputId": "61c2f865-4d9f-43aa-ad1f-69f4199fa4f6"
      },
      "source": [
        "# 리스트 맨 뒤에 요소 하나를 추가하는 method\n",
        "a.append(500)\n",
        "a"
      ],
      "execution_count": 11,
      "outputs": [
        {
          "output_type": "execute_result",
          "data": {
            "text/plain": [
              "[10, 20, 30, 500]"
            ]
          },
          "metadata": {
            "tags": []
          },
          "execution_count": 11
        }
      ]
    },
    {
      "cell_type": "code",
      "metadata": {
        "colab": {
          "base_uri": "https://localhost:8080/"
        },
        "id": "4nWHnNLJrh2K",
        "outputId": "0a903f1b-f165-45dc-8c96-2a2878011466"
      },
      "source": [
        "b = [10, 20, 30]\n",
        "b.extend(['x', 'y'])\n",
        "b"
      ],
      "execution_count": 3,
      "outputs": [
        {
          "output_type": "execute_result",
          "data": {
            "text/plain": [
              "[10, 20, 30, 'x', 'y']"
            ]
          },
          "metadata": {
            "tags": []
          },
          "execution_count": 3
        }
      ]
    },
    {
      "cell_type": "code",
      "metadata": {
        "colab": {
          "base_uri": "https://localhost:8080/"
        },
        "id": "bsuN3lahr-M6",
        "outputId": "0072451d-97fb-46fd-ffcb-79cdd116ad62"
      },
      "source": [
        "empty_list = []\n",
        "for i in range(5):\n",
        "    empty_list.append(i)\n",
        "empty_list"
      ],
      "execution_count": 4,
      "outputs": [
        {
          "output_type": "execute_result",
          "data": {
            "text/plain": [
              "[0, 1, 2, 3, 4]"
            ]
          },
          "metadata": {
            "tags": []
          },
          "execution_count": 4
        }
      ]
    },
    {
      "cell_type": "code",
      "metadata": {
        "colab": {
          "base_uri": "https://localhost:8080/"
        },
        "id": "fghzvvnHsMC5",
        "outputId": "1ef9f897-20d6-4589-ec17-1599cbe2e703"
      },
      "source": [
        "del a[3]\n",
        "a"
      ],
      "execution_count": 13,
      "outputs": [
        {
          "output_type": "execute_result",
          "data": {
            "text/plain": [
              "[10, 20, 30]"
            ]
          },
          "metadata": {
            "tags": []
          },
          "execution_count": 13
        }
      ]
    },
    {
      "cell_type": "markdown",
      "metadata": {
        "id": "a1IyO4yatoyG"
      },
      "source": [
        "### 자료 구조 기본 (Stack & Queue)\n",
        "- Stack : Last In, First Out(쌓기) \n",
        "\n",
        "- Queue : Firt In, First Out(일직선)"
      ]
    },
    {
      "cell_type": "code",
      "metadata": {
        "colab": {
          "base_uri": "https://localhost:8080/"
        },
        "id": "T8jiaveps7gD",
        "outputId": "e0c1840c-eb6a-47aa-dfec-624d7e7484ca"
      },
      "source": [
        "stack = []\n",
        "# stack에 push\n",
        "stack.append(1); stack.append(2); stack.append(3);\n",
        "stack"
      ],
      "execution_count": 24,
      "outputs": [
        {
          "output_type": "execute_result",
          "data": {
            "text/plain": [
              "[1, 2, 3]"
            ]
          },
          "metadata": {
            "tags": []
          },
          "execution_count": 24
        }
      ]
    },
    {
      "cell_type": "code",
      "metadata": {
        "colab": {
          "base_uri": "https://localhost:8080/"
        },
        "id": "G-AzOND4uIWr",
        "outputId": "e129d8f1-698f-43a6-f4e2-aaa53b6268a4"
      },
      "source": [
        "# stack으로부터 pop\n",
        "value = stack.pop() # 제일 마지막에 있던 게 나옴\n",
        "print(value, stack)"
      ],
      "execution_count": 25,
      "outputs": [
        {
          "output_type": "stream",
          "text": [
            "3 [1, 2]\n"
          ],
          "name": "stdout"
        }
      ]
    },
    {
      "cell_type": "code",
      "metadata": {
        "colab": {
          "base_uri": "https://localhost:8080/"
        },
        "id": "1EfPDsgGuKsq",
        "outputId": "cec13350-8576-4a6d-ed3f-756c5b24bf89"
      },
      "source": [
        "queue = []\n",
        "# queue에 insert\n",
        "queue.insert(0, 1); queue.insert(0, 2); queue.insert(0, 3); \n",
        "queue"
      ],
      "execution_count": 28,
      "outputs": [
        {
          "output_type": "execute_result",
          "data": {
            "text/plain": [
              "[3, 2, 1]"
            ]
          },
          "metadata": {
            "tags": []
          },
          "execution_count": 28
        }
      ]
    },
    {
      "cell_type": "code",
      "metadata": {
        "colab": {
          "base_uri": "https://localhost:8080/"
        },
        "id": "UMdSTdpau6Ih",
        "outputId": "49751ae9-aa28-4c1a-83cf-a1c20e936a63"
      },
      "source": [
        "# queue로부터 끄집어내기, 제일 앞에 있던 게 나옴\n",
        "value = queue.pop()\n",
        "print(value, queue)"
      ],
      "execution_count": 29,
      "outputs": [
        {
          "output_type": "stream",
          "text": [
            "1 [3, 2]\n"
          ],
          "name": "stdout"
        }
      ]
    },
    {
      "cell_type": "markdown",
      "metadata": {
        "id": "yhkzOz7LvjWd"
      },
      "source": [
        "### 다양한 Method"
      ]
    },
    {
      "cell_type": "code",
      "metadata": {
        "colab": {
          "base_uri": "https://localhost:8080/"
        },
        "id": "wA0fVbKavSLp",
        "outputId": "a9717fbb-e353-4db0-95a4-d22ef98ee9dd"
      },
      "source": [
        "# index - 몇 번째 값인지 확인\n",
        "a = [10, 20, 30, 40, 50, 10]\n",
        "a.index(30)"
      ],
      "execution_count": 43,
      "outputs": [
        {
          "output_type": "execute_result",
          "data": {
            "text/plain": [
              "2"
            ]
          },
          "metadata": {
            "tags": []
          },
          "execution_count": 43
        }
      ]
    },
    {
      "cell_type": "code",
      "metadata": {
        "colab": {
          "base_uri": "https://localhost:8080/"
        },
        "id": "c7OjCPl3wz3o",
        "outputId": "0d204886-585d-46f0-ae8a-855b910bd6fe"
      },
      "source": [
        "a.index(30), a.index(40) # 줄 바꿈 하면 마지막 값만 print나옴. 굳이 한 줄로 보고 싶으면 comma로 연결해서 tuple 형태로 볼 것"
      ],
      "execution_count": 41,
      "outputs": [
        {
          "output_type": "execute_result",
          "data": {
            "text/plain": [
              "(2, 3)"
            ]
          },
          "metadata": {
            "tags": []
          },
          "execution_count": 41
        }
      ]
    },
    {
      "cell_type": "code",
      "metadata": {
        "id": "S0IL0ffcvyun"
      },
      "source": [
        "num = 45\n",
        "if num in a:\n",
        "    idx = a.index(num)"
      ],
      "execution_count": 34,
      "outputs": []
    },
    {
      "cell_type": "code",
      "metadata": {
        "colab": {
          "base_uri": "https://localhost:8080/"
        },
        "id": "9l4Wt55zwFwp",
        "outputId": "f6cf0523-96fc-4e5f-fb89-4e11eef52ecb"
      },
      "source": [
        "# value 개수 세기\n",
        "a.count(10), a.count(45)"
      ],
      "execution_count": 45,
      "outputs": [
        {
          "output_type": "execute_result",
          "data": {
            "text/plain": [
              "(2, 0)"
            ]
          },
          "metadata": {
            "tags": []
          },
          "execution_count": 45
        }
      ]
    },
    {
      "cell_type": "markdown",
      "metadata": {
        "id": "JW0STZJAxNfP"
      },
      "source": [
        "## 정렬(Sort)"
      ]
    },
    {
      "cell_type": "code",
      "metadata": {
        "colab": {
          "base_uri": "https://localhost:8080/"
        },
        "id": "5_DnBPFxwNH5",
        "outputId": "024c52fd-06f9-460a-da90-485e9f789d69"
      },
      "source": [
        "# 기본 오름차순(ascending)\n",
        "a = [20, 10, 15, 30, 40]\n",
        "a.sort()\n",
        "a # a 값 자체가 변함"
      ],
      "execution_count": 47,
      "outputs": [
        {
          "output_type": "execute_result",
          "data": {
            "text/plain": [
              "[10, 15, 20, 30, 40]"
            ]
          },
          "metadata": {
            "tags": []
          },
          "execution_count": 47
        }
      ]
    },
    {
      "cell_type": "code",
      "metadata": {
        "colab": {
          "base_uri": "https://localhost:8080/"
        },
        "id": "SXUbDo3bxVKj",
        "outputId": "d4c5dc4c-146c-4396-fed9-768203323c2c"
      },
      "source": [
        "b = [20, 10, 15, 30, 40]\n",
        "sorted(b)"
      ],
      "execution_count": 48,
      "outputs": [
        {
          "output_type": "execute_result",
          "data": {
            "text/plain": [
              "[10, 15, 20, 30, 40]"
            ]
          },
          "metadata": {
            "tags": []
          },
          "execution_count": 48
        }
      ]
    },
    {
      "cell_type": "code",
      "metadata": {
        "colab": {
          "base_uri": "https://localhost:8080/"
        },
        "id": "750yzLHCxmt6",
        "outputId": "590dd18b-841f-49e0-8375-ea547a5e113c"
      },
      "source": [
        "b # sorted를 사용하면 b값 자체에는 변함이 없음. \n",
        "## b = sorted(b)로 해줘야 변함."
      ],
      "execution_count": 49,
      "outputs": [
        {
          "output_type": "execute_result",
          "data": {
            "text/plain": [
              "[20, 10, 15, 30, 40]"
            ]
          },
          "metadata": {
            "tags": []
          },
          "execution_count": 49
        }
      ]
    },
    {
      "cell_type": "code",
      "metadata": {
        "colab": {
          "base_uri": "https://localhost:8080/"
        },
        "id": "row3JbeVxoHt",
        "outputId": "118f353d-f14d-4dec-db15-cdabbe1cfc3d"
      },
      "source": [
        "# reverse - 내림차순(descending order)\n",
        "a = [20, 10, 15, 30, 40]\n",
        "a.sort(reverse = True) # 제일 큰 값이 가장 먼저\n",
        "a"
      ],
      "execution_count": 50,
      "outputs": [
        {
          "output_type": "execute_result",
          "data": {
            "text/plain": [
              "[40, 30, 20, 15, 10]"
            ]
          },
          "metadata": {
            "tags": []
          },
          "execution_count": 50
        }
      ]
    },
    {
      "cell_type": "markdown",
      "metadata": {
        "id": "PHZLRhgi0zP5"
      },
      "source": [
        "## 22.2 리스트 할당과 복사"
      ]
    },
    {
      "cell_type": "code",
      "metadata": {
        "colab": {
          "base_uri": "https://localhost:8080/"
        },
        "id": "5mnaOIwc04jj",
        "outputId": "2f4d7aa0-c21c-4809-c32b-de128212f4b7"
      },
      "source": [
        "# Shallow copy, pointer 만 복사\n",
        "a = [0, 0, 0, 0, 0]\n",
        "b = a\n",
        "b"
      ],
      "execution_count": 51,
      "outputs": [
        {
          "output_type": "execute_result",
          "data": {
            "text/plain": [
              "[0, 0, 0, 0, 0]"
            ]
          },
          "metadata": {
            "tags": []
          },
          "execution_count": 51
        }
      ]
    },
    {
      "cell_type": "code",
      "metadata": {
        "colab": {
          "base_uri": "https://localhost:8080/"
        },
        "id": "v8WFNz7O0-Aj",
        "outputId": "10dd0d0e-6d62-43e9-a420-3f05ed35ea37"
      },
      "source": [
        "b[2] = 99\n",
        "b"
      ],
      "execution_count": 52,
      "outputs": [
        {
          "output_type": "execute_result",
          "data": {
            "text/plain": [
              "[0, 0, 99, 0, 0]"
            ]
          },
          "metadata": {
            "tags": []
          },
          "execution_count": 52
        }
      ]
    },
    {
      "cell_type": "code",
      "metadata": {
        "colab": {
          "base_uri": "https://localhost:8080/"
        },
        "id": "19qXovgp0_do",
        "outputId": "bba35ddd-59ca-4cb9-b64f-313331569a81"
      },
      "source": [
        "a"
      ],
      "execution_count": 53,
      "outputs": [
        {
          "output_type": "execute_result",
          "data": {
            "text/plain": [
              "[0, 0, 99, 0, 0]"
            ]
          },
          "metadata": {
            "tags": []
          },
          "execution_count": 53
        }
      ]
    },
    {
      "cell_type": "code",
      "metadata": {
        "colab": {
          "base_uri": "https://localhost:8080/"
        },
        "id": "5C6V-Yp60_5o",
        "outputId": "5daec6d2-5c7c-4a2a-ff83-e88ae11c10e6"
      },
      "source": [
        "# 데이터를 몽땅 별도의 기억장소에 복사\n",
        "a = [0, 0, 0, 0, 0]\n",
        "b = a.copy()\n",
        "b"
      ],
      "execution_count": 56,
      "outputs": [
        {
          "output_type": "execute_result",
          "data": {
            "text/plain": [
              "[0, 0, 0, 0, 0]"
            ]
          },
          "metadata": {
            "tags": []
          },
          "execution_count": 56
        }
      ]
    },
    {
      "cell_type": "code",
      "metadata": {
        "colab": {
          "base_uri": "https://localhost:8080/"
        },
        "id": "K9mnwHrm1MWd",
        "outputId": "338337be-8eac-4aa9-bcbd-17a2ae131006"
      },
      "source": [
        "b[2] = 99\n",
        "a"
      ],
      "execution_count": 55,
      "outputs": [
        {
          "output_type": "execute_result",
          "data": {
            "text/plain": [
              "[0, 0, 0, 0, 0]"
            ]
          },
          "metadata": {
            "tags": []
          },
          "execution_count": 55
        }
      ]
    },
    {
      "cell_type": "markdown",
      "metadata": {
        "id": "e6o-h_2l2jRC"
      },
      "source": [
        "## 22.3 리스트와 반복문"
      ]
    },
    {
      "cell_type": "code",
      "metadata": {
        "colab": {
          "base_uri": "https://localhost:8080/"
        },
        "id": "Nwsxqmye1PMW",
        "outputId": "39c87a29-6197-4210-d0dc-6d42c54552f7"
      },
      "source": [
        "for fruit in ['apple', 'banana', 'cherry']:\n",
        "    print(fruit)"
      ],
      "execution_count": 58,
      "outputs": [
        {
          "output_type": "stream",
          "text": [
            "apple\n",
            "banana\n",
            "cherry\n"
          ],
          "name": "stdout"
        }
      ]
    },
    {
      "cell_type": "code",
      "metadata": {
        "colab": {
          "base_uri": "https://localhost:8080/"
        },
        "id": "VOGOfhc43AVr",
        "outputId": "1bbcd135-4104-43e1-921d-3de61bd0a2be"
      },
      "source": [
        "# enumerate - index 값을 함께 나타내줌. 자주 쓰임\n",
        "fruits = ['apple', 'banana', 'cherry']\n",
        "for index, fruit in enumerate(fruits):\n",
        "    print(index, fruit)"
      ],
      "execution_count": 59,
      "outputs": [
        {
          "output_type": "stream",
          "text": [
            "0 apple\n",
            "1 banana\n",
            "2 cherry\n"
          ],
          "name": "stdout"
        }
      ]
    },
    {
      "cell_type": "code",
      "metadata": {
        "colab": {
          "base_uri": "https://localhost:8080/"
        },
        "id": "o8oiIuVT3Iu_",
        "outputId": "96859080-7c02-4651-bf2b-61df92562adc"
      },
      "source": [
        "# 옛날 코딩 방식\n",
        "for i in range(len(fruits)):\n",
        "    print(fruits[i])"
      ],
      "execution_count": 60,
      "outputs": [
        {
          "output_type": "stream",
          "text": [
            "apple\n",
            "banana\n",
            "cherry\n"
          ],
          "name": "stdout"
        }
      ]
    },
    {
      "cell_type": "markdown",
      "metadata": {
        "id": "AEd1dXZo4ItS"
      },
      "source": [
        "## 22.4 리스트에서 min, max, sum 함수 활용"
      ]
    },
    {
      "cell_type": "code",
      "metadata": {
        "colab": {
          "base_uri": "https://localhost:8080/"
        },
        "id": "rad0qf4A31zF",
        "outputId": "1716e1ed-e694-4df4-f8fd-63c6cdf8d0ab"
      },
      "source": [
        "a = [38, 21, 53, 62, 19]\n",
        "a.sort()   # same as min(a)\n",
        "a[0]"
      ],
      "execution_count": 62,
      "outputs": [
        {
          "output_type": "execute_result",
          "data": {
            "text/plain": [
              "19"
            ]
          },
          "metadata": {
            "tags": []
          },
          "execution_count": 62
        }
      ]
    },
    {
      "cell_type": "code",
      "metadata": {
        "colab": {
          "base_uri": "https://localhost:8080/"
        },
        "id": "5T0w13T14tLs",
        "outputId": "6658fd5d-4ebb-4bdb-f695-cc42df22191b"
      },
      "source": [
        "a[-1]  # same as max(a)"
      ],
      "execution_count": 63,
      "outputs": [
        {
          "output_type": "execute_result",
          "data": {
            "text/plain": [
              "62"
            ]
          },
          "metadata": {
            "tags": []
          },
          "execution_count": 63
        }
      ]
    },
    {
      "cell_type": "code",
      "metadata": {
        "colab": {
          "base_uri": "https://localhost:8080/"
        },
        "id": "o5pufXft41Zn",
        "outputId": "6e4161f0-9407-4e6e-ad9c-c1ea8b91a9c2"
      },
      "source": [
        "a = [38, 21, 53, 62, 19]\n",
        "sorted(a)[0]  # min(a)"
      ],
      "execution_count": 64,
      "outputs": [
        {
          "output_type": "execute_result",
          "data": {
            "text/plain": [
              "19"
            ]
          },
          "metadata": {
            "tags": []
          },
          "execution_count": 64
        }
      ]
    },
    {
      "cell_type": "code",
      "metadata": {
        "colab": {
          "base_uri": "https://localhost:8080/"
        },
        "id": "YBueYlBs4-fi",
        "outputId": "8d3ed7d4-21ff-44b8-f1f3-7d66cd422305"
      },
      "source": [
        "sorted(a)[-1]  # max(a)"
      ],
      "execution_count": 65,
      "outputs": [
        {
          "output_type": "execute_result",
          "data": {
            "text/plain": [
              "62"
            ]
          },
          "metadata": {
            "tags": []
          },
          "execution_count": 65
        }
      ]
    },
    {
      "cell_type": "code",
      "metadata": {
        "colab": {
          "base_uri": "https://localhost:8080/"
        },
        "id": "gXpWPU7G5Bkf",
        "outputId": "9674f184-7ae4-412f-a44b-de0da7039b3e"
      },
      "source": [
        "# a 원소의 합\n",
        "sum_of_list = 0\n",
        "for elem in a:\n",
        "    sum_of_list += elem\n",
        "sum_of_list, sum(a)  # same value"
      ],
      "execution_count": 66,
      "outputs": [
        {
          "output_type": "execute_result",
          "data": {
            "text/plain": [
              "(193, 193)"
            ]
          },
          "metadata": {
            "tags": []
          },
          "execution_count": 66
        }
      ]
    },
    {
      "cell_type": "markdown",
      "metadata": {
        "id": "LvnoZ_t55vth"
      },
      "source": [
        "## 22.5 리스트 표현식(Comprehension)\n",
        "- i for i in range(10)"
      ]
    },
    {
      "cell_type": "code",
      "metadata": {
        "colab": {
          "base_uri": "https://localhost:8080/"
        },
        "id": "7xRHJedH5Sh6",
        "outputId": "828e3860-f7a1-4b38-e860-92851c0d08a1"
      },
      "source": [
        "[fruit for fruit in fruits]"
      ],
      "execution_count": 68,
      "outputs": [
        {
          "output_type": "execute_result",
          "data": {
            "text/plain": [
              "['apple', 'banana', 'cherry']"
            ]
          },
          "metadata": {
            "tags": []
          },
          "execution_count": 68
        }
      ]
    },
    {
      "cell_type": "code",
      "metadata": {
        "colab": {
          "base_uri": "https://localhost:8080/"
        },
        "id": "RL1uy-fW6Obx",
        "outputId": "c6f50211-c4ba-4d9f-9a2d-798f9a10d9b8"
      },
      "source": [
        "[fruit * index for index, fruit in enumerate(fruits)]"
      ],
      "execution_count": 76,
      "outputs": [
        {
          "output_type": "execute_result",
          "data": {
            "text/plain": [
              "['', 'banana', 'cherrycherry']"
            ]
          },
          "metadata": {
            "tags": []
          },
          "execution_count": 76
        }
      ]
    },
    {
      "cell_type": "code",
      "metadata": {
        "colab": {
          "base_uri": "https://localhost:8080/"
        },
        "id": "0St6yrgk6g5h",
        "outputId": "b8c0b13e-c72e-4aee-e8de-c19016d6f6ec"
      },
      "source": [
        "[i * i for i in range(1, 11)]"
      ],
      "execution_count": 79,
      "outputs": [
        {
          "output_type": "execute_result",
          "data": {
            "text/plain": [
              "[1, 4, 9, 16, 25, 36, 49, 64, 81, 100]"
            ]
          },
          "metadata": {
            "tags": []
          },
          "execution_count": 79
        }
      ]
    },
    {
      "cell_type": "code",
      "metadata": {
        "colab": {
          "base_uri": "https://localhost:8080/"
        },
        "id": "VFixRAK-674p",
        "outputId": "c045c3d3-014f-4a8e-cc65-b6f350162e60"
      },
      "source": [
        "list(i * i for i in range(1, 11)) # same value"
      ],
      "execution_count": 80,
      "outputs": [
        {
          "output_type": "execute_result",
          "data": {
            "text/plain": [
              "[1, 4, 9, 16, 25, 36, 49, 64, 81, 100]"
            ]
          },
          "metadata": {
            "tags": []
          },
          "execution_count": 80
        }
      ]
    },
    {
      "cell_type": "code",
      "metadata": {
        "colab": {
          "base_uri": "https://localhost:8080/"
        },
        "id": "LRB6BFio7QeJ",
        "outputId": "56a246c5-c28a-44ac-db36-c249a5300cb6"
      },
      "source": [
        "# 다른 language를 사용했다면,\n",
        "sq_list = []\n",
        "for i in range(1, 11):\n",
        "  sq_list.append(i * i)\n",
        "sq_list"
      ],
      "execution_count": 82,
      "outputs": [
        {
          "output_type": "execute_result",
          "data": {
            "text/plain": [
              "[1, 4, 9, 16, 25, 36, 49, 64, 81, 100]"
            ]
          },
          "metadata": {
            "tags": []
          },
          "execution_count": 82
        }
      ]
    },
    {
      "cell_type": "markdown",
      "metadata": {
        "id": "Z6iKQGTn79B-"
      },
      "source": [
        "### 표현식에서 if 조건문 사용하기"
      ]
    },
    {
      "cell_type": "code",
      "metadata": {
        "colab": {
          "base_uri": "https://localhost:8080/"
        },
        "id": "elSaCBnq7g_L",
        "outputId": "18f2be6e-6452-4b8b-d073-bb95d5234505"
      },
      "source": [
        "[i * i for i in range(1, 11, 2)] # odd numbers"
      ],
      "execution_count": 83,
      "outputs": [
        {
          "output_type": "execute_result",
          "data": {
            "text/plain": [
              "[1, 9, 25, 49, 81]"
            ]
          },
          "metadata": {
            "tags": []
          },
          "execution_count": 83
        }
      ]
    },
    {
      "cell_type": "code",
      "metadata": {
        "colab": {
          "base_uri": "https://localhost:8080/"
        },
        "id": "jGpl8vbE8TwB",
        "outputId": "f5155fbd-9409-4730-c36f-26fe995be26f"
      },
      "source": [
        "[i * i for i in range(1, 11) if i % 2 == 1] # odd numbers"
      ],
      "execution_count": 86,
      "outputs": [
        {
          "output_type": "execute_result",
          "data": {
            "text/plain": [
              "[1, 9, 25, 49, 81]"
            ]
          },
          "metadata": {
            "tags": []
          },
          "execution_count": 86
        }
      ]
    },
    {
      "cell_type": "markdown",
      "metadata": {
        "id": "RuCbZNuj8_zR"
      },
      "source": [
        "### for가 여러 번 나오게 할 수 있음"
      ]
    },
    {
      "cell_type": "code",
      "metadata": {
        "colab": {
          "base_uri": "https://localhost:8080/"
        },
        "id": "gYCtVtCI8XaN",
        "outputId": "fc7b2d7c-b48d-44e8-80ce-b7197b047059"
      },
      "source": [
        "# 2중 for loop\n",
        "# 구구단\n",
        "a = [i * k for i in range(2, 10) for k in range(1, 10)] # i - 구구단 2단부터 9단까지, k - 1부터 9까지 곱해주기\n",
        "print(a)"
      ],
      "execution_count": 89,
      "outputs": [
        {
          "output_type": "stream",
          "text": [
            "[2, 4, 6, 8, 10, 12, 14, 16, 18, 3, 6, 9, 12, 15, 18, 21, 24, 27, 4, 8, 12, 16, 20, 24, 28, 32, 36, 5, 10, 15, 20, 25, 30, 35, 40, 45, 6, 12, 18, 24, 30, 36, 42, 48, 54, 7, 14, 21, 28, 35, 42, 49, 56, 63, 8, 16, 24, 32, 40, 48, 56, 64, 72, 9, 18, 27, 36, 45, 54, 63, 72, 81]\n"
          ],
          "name": "stdout"
        }
      ]
    },
    {
      "cell_type": "code",
      "metadata": {
        "colab": {
          "base_uri": "https://localhost:8080/"
        },
        "id": "d9IHfoVH9SWC",
        "outputId": "0bea395d-b56a-4ab0-9599-ac444e7e8c9d"
      },
      "source": [
        "a = [i * k for i in range(2, 10)\n",
        "              for k in range(1, 10)]  # 더 보기 편한 구조\n",
        "print(a)"
      ],
      "execution_count": 91,
      "outputs": [
        {
          "output_type": "stream",
          "text": [
            "[2, 4, 6, 8, 10, 12, 14, 16, 18, 3, 6, 9, 12, 15, 18, 21, 24, 27, 4, 8, 12, 16, 20, 24, 28, 32, 36, 5, 10, 15, 20, 25, 30, 35, 40, 45, 6, 12, 18, 24, 30, 36, 42, 48, 54, 7, 14, 21, 28, 35, 42, 49, 56, 63, 8, 16, 24, 32, 40, 48, 56, 64, 72, 9, 18, 27, 36, 45, 54, 63, 72, 81]\n"
          ],
          "name": "stdout"
        }
      ]
    },
    {
      "cell_type": "markdown",
      "metadata": {
        "id": "YypT8EQA-H0O"
      },
      "source": [
        "## 22.6 map"
      ]
    },
    {
      "cell_type": "code",
      "metadata": {
        "colab": {
          "base_uri": "https://localhost:8080/"
        },
        "id": "tHGqd8P89vAE",
        "outputId": "086b98a4-5163-42ab-e16c-6d0edfd878fb"
      },
      "source": [
        "a = [1.2, 2.3, 3.5, 4.8]\n",
        "for i in range(len(a)):\n",
        "    a[i] = int(a[i])\n",
        "a"
      ],
      "execution_count": 92,
      "outputs": [
        {
          "output_type": "execute_result",
          "data": {
            "text/plain": [
              "[1, 2, 3, 4]"
            ]
          },
          "metadata": {
            "tags": []
          },
          "execution_count": 92
        }
      ]
    },
    {
      "cell_type": "code",
      "metadata": {
        "colab": {
          "base_uri": "https://localhost:8080/"
        },
        "id": "wLYdQ_zf-dP0",
        "outputId": "261264bb-ff67-43fd-df6e-afda15d09c02"
      },
      "source": [
        "# 저장이 안 되는 경우\n",
        "a = [1.2, 2.3, 3.5, 4.8]\n",
        "for i in a:\n",
        "    i = int(i)\n",
        "a"
      ],
      "execution_count": 95,
      "outputs": [
        {
          "output_type": "execute_result",
          "data": {
            "text/plain": [
              "[1.2, 2.3, 3.5, 4.8]"
            ]
          },
          "metadata": {
            "tags": []
          },
          "execution_count": 95
        }
      ]
    },
    {
      "cell_type": "code",
      "metadata": {
        "colab": {
          "base_uri": "https://localhost:8080/"
        },
        "id": "FQC7OWYz-1M0",
        "outputId": "0769d6bc-6e14-4dba-d2d9-486399cb1460"
      },
      "source": [
        "a = [1.2, 2.3, 3.5, 4.8]\n",
        "for i, val in enumerate(a):\n",
        "    a[i] = int(val)\n",
        "a"
      ],
      "execution_count": 94,
      "outputs": [
        {
          "output_type": "execute_result",
          "data": {
            "text/plain": [
              "[1, 2, 3, 4]"
            ]
          },
          "metadata": {
            "tags": []
          },
          "execution_count": 94
        }
      ]
    },
    {
      "cell_type": "code",
      "metadata": {
        "colab": {
          "base_uri": "https://localhost:8080/"
        },
        "id": "_wdkpIgK-8e-",
        "outputId": "9c9a9eec-6243-4c6d-ca51-bfcbed9b2552"
      },
      "source": [
        "a = [1.2, 2.3, 3.5, 4.8]\n",
        "a = list(map(int, a))\n",
        "a"
      ],
      "execution_count": 98,
      "outputs": [
        {
          "output_type": "execute_result",
          "data": {
            "text/plain": [
              "[1, 2, 3, 4]"
            ]
          },
          "metadata": {
            "tags": []
          },
          "execution_count": 98
        }
      ]
    },
    {
      "cell_type": "code",
      "metadata": {
        "colab": {
          "base_uri": "https://localhost:8080/"
        },
        "id": "kvF9azGL_Dc-",
        "outputId": "ebb112c9-31b1-43d9-837d-e07cc0fdb56c"
      },
      "source": [
        "a = [1.2, 2.3, 3.5, 4.8]\n",
        "a = list(map(lambda x: x * x, a)) # 별도의 함수를 지정해줘도 됨\n",
        "a"
      ],
      "execution_count": 100,
      "outputs": [
        {
          "output_type": "execute_result",
          "data": {
            "text/plain": [
              "[1.44, 5.289999999999999, 12.25, 23.04]"
            ]
          },
          "metadata": {
            "tags": []
          },
          "execution_count": 100
        }
      ]
    },
    {
      "cell_type": "markdown",
      "metadata": {
        "id": "e-EUNNaU_4wJ"
      },
      "source": [
        "## 22.7 tuple"
      ]
    },
    {
      "cell_type": "code",
      "metadata": {
        "colab": {
          "base_uri": "https://localhost:8080/"
        },
        "id": "_KygflQU_czA",
        "outputId": "b00acb58-7f79-4686-fdec-a303ecbde0e6"
      },
      "source": [
        "tuple(i * i for i in range(1, 11) if i % 2 == 0) # even numbers"
      ],
      "execution_count": 101,
      "outputs": [
        {
          "output_type": "execute_result",
          "data": {
            "text/plain": [
              "(4, 16, 36, 64, 100)"
            ]
          },
          "metadata": {
            "tags": []
          },
          "execution_count": 101
        }
      ]
    },
    {
      "cell_type": "code",
      "metadata": {
        "id": "1-4ZCj5jAFbo"
      },
      "source": [
        ""
      ],
      "execution_count": null,
      "outputs": []
    }
  ]
}