{
  "nbformat": 4,
  "nbformat_minor": 0,
  "metadata": {
    "colab": {
      "name": "6회차_김수민.ipynb",
      "provenance": []
    },
    "kernelspec": {
      "name": "python3",
      "display_name": "Python 3"
    },
    "language_info": {
      "name": "python"
    }
  },
  "cells": [
    {
      "cell_type": "markdown",
      "metadata": {
        "id": "Hi3vcwJKhjcb"
      },
      "source": [
        "## 8.5 심사문제 합격 여부 출력하기"
      ]
    },
    {
      "cell_type": "code",
      "metadata": {
        "colab": {
          "base_uri": "https://localhost:8080/"
        },
        "id": "8BHUI2mKhpec",
        "outputId": "a11823d4-b23d-46fb-922f-91e58462a25e"
      },
      "source": [
        "korean, english, math, science = map(int, input().split())\n",
        "print(korean >= 90 and english > 80 and math > 85 and science >= 80)\n"
      ],
      "execution_count": 2,
      "outputs": [
        {
          "output_type": "stream",
          "text": [
            "90 90 90 90\n",
            "True\n"
          ],
          "name": "stdout"
        }
      ]
    },
    {
      "cell_type": "markdown",
      "metadata": {
        "id": "R7PMuh0UjpLc"
      },
      "source": [
        "## 9.4 심사문제 여러 줄로 된 문자열 사용하기"
      ]
    },
    {
      "cell_type": "code",
      "metadata": {
        "colab": {
          "base_uri": "https://localhost:8080/",
          "height": 35
        },
        "id": "OdXRTOhjjSj1",
        "outputId": "1197f2c3-6a43-4624-be19-b1eb9f54fec2"
      },
      "source": [
        "a = \"\"\"'Python' is a \\\"programming language\\\"\n",
        "that lets you work quickly\n",
        "and\n",
        "integrete systems more effectively.\"\"\"\n",
        "a"
      ],
      "execution_count": 11,
      "outputs": [
        {
          "output_type": "execute_result",
          "data": {
            "application/vnd.google.colaboratory.intrinsic+json": {
              "type": "string"
            },
            "text/plain": [
              "'\\'Python\\' is a \"programming language\"\\nthat lets you work quickly\\nand\\nintegrete systems more effectively.'"
            ]
          },
          "metadata": {
            "tags": []
          },
          "execution_count": 11
        }
      ]
    },
    {
      "cell_type": "markdown",
      "metadata": {
        "id": "Gah3qNxCk-cf"
      },
      "source": [
        "## 10.5 심사문제 range로 튜플 만들기"
      ]
    },
    {
      "cell_type": "code",
      "metadata": {
        "colab": {
          "base_uri": "https://localhost:8080/"
        },
        "id": "8Wnvsm-6lCrW",
        "outputId": "0e9e5f86-927c-4e88-d3d9-0eedae9125dd"
      },
      "source": [
        "num = int(input('정수를 입력하세요> '))\n",
        "b = tuple(range(-10, 10, num))\n",
        "print(b)"
      ],
      "execution_count": 12,
      "outputs": [
        {
          "output_type": "stream",
          "text": [
            "정수를 입력하세요> 2\n",
            "(-10, -8, -6, -4, -2, 0, 2, 4, 6, 8)\n"
          ],
          "name": "stdout"
        }
      ]
    },
    {
      "cell_type": "markdown",
      "metadata": {
        "id": "X_3HbBnCloRE"
      },
      "source": [
        "## 11.8 심사문제 리스트의 마지막 부분 삭제하기"
      ]
    },
    {
      "cell_type": "code",
      "metadata": {
        "colab": {
          "base_uri": "https://localhost:8080/"
        },
        "id": "SwolNhnSluBG",
        "outputId": "85183b61-61c8-4e35-9b2a-6fa88212309b"
      },
      "source": [
        "x = input().split()\n",
        "del x[-5:len(x)]\n",
        "print(tuple(x))\n"
      ],
      "execution_count": 14,
      "outputs": [
        {
          "output_type": "stream",
          "text": [
            "1 2 3 4 5 6 7 8 9 10\n",
            "('1', '2', '3', '4', '5')\n"
          ],
          "name": "stdout"
        }
      ]
    },
    {
      "cell_type": "markdown",
      "metadata": {
        "id": "dBi8CxmSmYcP"
      },
      "source": [
        "## 11.9 심사문제 \n",
        "## 문자열에서 인덱스가 홀수인 문자와 짝수인 문자 연결하기"
      ]
    },
    {
      "cell_type": "code",
      "metadata": {
        "colab": {
          "base_uri": "https://localhost:8080/"
        },
        "id": "IZeWKyP0meFe",
        "outputId": "3081dbed-2808-47d0-ed1d-0861b27168e7"
      },
      "source": [
        "c = input('문자를 입력하세요> ')[1::2]\n",
        "d = input('문자를 입력하세요> ')[::2]\n",
        "\n",
        "print(c+d)\n"
      ],
      "execution_count": 15,
      "outputs": [
        {
          "output_type": "stream",
          "text": [
            "문자를 입력하세요> python\n",
            "문자를 입력하세요> python\n",
            "yhnpto\n"
          ],
          "name": "stdout"
        }
      ]
    },
    {
      "cell_type": "markdown",
      "metadata": {
        "id": "lwebAirCnRY3"
      },
      "source": [
        "## 12.5 심사문제 딕셔너리에 게임 캐릭터 능력치 저장하기"
      ]
    },
    {
      "cell_type": "code",
      "metadata": {
        "colab": {
          "base_uri": "https://localhost:8080/"
        },
        "id": "okT4oyL_nVBB",
        "outputId": "2e8b2675-58c0-4333-aa2e-66f8361e3c1c"
      },
      "source": [
        "word = input('문자를 입력하세요> ').split()\n",
        "nums = map(float, input('숫자를 입력하세요> ').split())\n",
        "lux = dict(zip(word, nums))\n",
        "print(lux)"
      ],
      "execution_count": 17,
      "outputs": [
        {
          "output_type": "stream",
          "text": [
            "문자를 입력하세요> health mana\n",
            "숫자를 입력하세요> 575.6 1.7\n",
            "{'health': 575.6, 'mana': 1.7}\n"
          ],
          "name": "stdout"
        }
      ]
    }
  ]
}